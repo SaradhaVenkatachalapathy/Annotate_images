{
 "cells": [
  {
   "cell_type": "code",
   "execution_count": 1,
   "metadata": {},
   "outputs": [],
   "source": [
    "from src.batch_processing import perfrom_simple_intensity_based_segmentation\n",
    "\n",
    "path_to_input_folder = \"/media/pathy_s/54fe7289-2a61-4f3a-ac84-eeea3c0d1d2f/temp/interactive_segmentation/test_data/raw_images/\"\n",
    "path_to_output_folder = \"/media/pathy_s/54fe7289-2a61-4f3a-ac84-eeea3c0d1d2f/temp/interactive_segmentation/test_data/basic_labels\"\n",
    "\n",
    "perfrom_simple_intensity_based_segmentation(path_to_input_folder,path_to_output_folder,\n",
    "                                            fil_sigma=5,threshold_method=\"Li\",\n",
    "                                            smallest_object_area = 10000,label_img_depth = \"8bit\")"
   ]
  },
  {
   "cell_type": "code",
   "execution_count": 1,
   "metadata": {},
   "outputs": [
    {
     "name": "stderr",
     "output_type": "stream",
     "text": [
      "/home/pathy_s/anaconda3/lib/python3.8/site-packages/napari/_vispy/vispy_camera.py:109: RuntimeWarning: divide by zero encountered in true_divide\n",
      "  zoom = np.min(canvas_size / scale)\n",
      "/home/pathy_s/anaconda3/lib/python3.8/site-packages/napari/_vispy/vispy_camera.py:109: RuntimeWarning: divide by zero encountered in true_divide\n",
      "  zoom = np.min(canvas_size / scale)\n",
      "/home/pathy_s/anaconda3/lib/python3.8/site-packages/napari/_vispy/vispy_camera.py:109: RuntimeWarning: divide by zero encountered in true_divide\n",
      "  zoom = np.min(canvas_size / scale)\n"
     ]
    }
   ],
   "source": [
    "from src.batch_processing import correct_annotation_labels_batch\n",
    "\n",
    "path_to_input_folder = \"/media/pathy_s/54fe7289-2a61-4f3a-ac84-eeea3c0d1d2f/temp/interactive_segmentation/test_data/raw_images/\"\n",
    "path_to_anno_folder = \"/media/pathy_s/54fe7289-2a61-4f3a-ac84-eeea3c0d1d2f/temp/interactive_segmentation/test_data/basic_labels/\"\n",
    "path_to_output_folder = \"/media/pathy_s/54fe7289-2a61-4f3a-ac84-eeea3c0d1d2f/temp/interactive_segmentation/test_data/cor_labels\"\n",
    "\n",
    "correct_annotation_labels_batch(path_to_input_folder,path_to_anno_folder,\n",
    "                                    path_to_output_folder,\n",
    "                                    large_image = True, anno_img_depth = \"8bit\",\n",
    "                                    scale_factor = 10)"
   ]
  },
  {
   "cell_type": "code",
   "execution_count": 1,
   "metadata": {},
   "outputs": [],
   "source": [
    "from src.batch_processing import perfrom_simple_intensity_based_segmentation\n",
    "\n",
    "path_to_input_folder = \"/media/pathy_s/54fe7289-2a61-4f3a-ac84-eeea3c0d1d2f/temp/interactive_segmentation/test_data/nuc_imgs/\"\n",
    "path_to_output_folder = \"/media/pathy_s/54fe7289-2a61-4f3a-ac84-eeea3c0d1d2f/temp/interactive_segmentation/test_data/nuc_uncor_labels\"\n",
    "\n",
    "perfrom_simple_intensity_based_segmentation(path_to_input_folder,path_to_output_folder,\n",
    "                                            fil_sigma=1,threshold_method=\"Otsu\",\n",
    "                                            smallest_object_area = 10,label_img_depth = \"8bit\")"
   ]
  },
  {
   "cell_type": "code",
   "execution_count": 1,
   "metadata": {},
   "outputs": [
    {
     "name": "stderr",
     "output_type": "stream",
     "text": [
      "/home/pathy_s/anaconda3/lib/python3.8/site-packages/napari/_vispy/vispy_camera.py:109: RuntimeWarning: divide by zero encountered in true_divide\n",
      "  zoom = np.min(canvas_size / scale)\n",
      "/home/pathy_s/anaconda3/lib/python3.8/site-packages/napari/_vispy/vispy_camera.py:109: RuntimeWarning: divide by zero encountered in true_divide\n",
      "  zoom = np.min(canvas_size / scale)\n",
      "/home/pathy_s/anaconda3/lib/python3.8/site-packages/napari/_vispy/vispy_camera.py:109: RuntimeWarning: divide by zero encountered in true_divide\n",
      "  zoom = np.min(canvas_size / scale)\n",
      "/home/pathy_s/anaconda3/lib/python3.8/site-packages/napari/_vispy/vispy_camera.py:109: RuntimeWarning: divide by zero encountered in true_divide\n",
      "  zoom = np.min(canvas_size / scale)\n"
     ]
    }
   ],
   "source": [
    "from src.batch_processing import correct_annotation_labels_batch\n",
    "\n",
    "path_to_input_folder = \"/media/pathy_s/54fe7289-2a61-4f3a-ac84-eeea3c0d1d2f/temp/interactive_segmentation/test_data/nuc_imgs/\"\n",
    "path_to_anno_folder = \"/media/pathy_s/54fe7289-2a61-4f3a-ac84-eeea3c0d1d2f/temp/interactive_segmentation/test_data/nuc_uncor_labels/\"\n",
    "path_to_output_folder = \"/media/pathy_s/54fe7289-2a61-4f3a-ac84-eeea3c0d1d2f/temp/interactive_segmentation/test_data/nuc_cor_labels\"\n",
    "\n",
    "correct_annotation_labels_batch(path_to_input_folder,path_to_anno_folder,\n",
    "                                    path_to_output_folder,\n",
    "                                    large_image = False, anno_img_depth = \"8bit\")"
   ]
  },
  {
   "cell_type": "code",
   "execution_count": null,
   "metadata": {},
   "outputs": [
    {
     "name": "stderr",
     "output_type": "stream",
     "text": [
      "/home/pathy_s/anaconda3/lib/python3.8/site-packages/napari/_vispy/vispy_camera.py:109: RuntimeWarning: divide by zero encountered in true_divide\n",
      "  zoom = np.min(canvas_size / scale)\n",
      "/home/pathy_s/anaconda3/lib/python3.8/site-packages/napari/_vispy/vispy_camera.py:109: RuntimeWarning: divide by zero encountered in true_divide\n",
      "  zoom = np.min(canvas_size / scale)\n"
     ]
    }
   ],
   "source": [
    "from src.batch_processing import generate_annotation_labels_batch\n",
    "\n",
    "path_to_input_folder = \"/media/pathy_s/54fe7289-2a61-4f3a-ac84-eeea3c0d1d2f/temp/interactive_segmentation/test_data/nuc_imgs/\"\n",
    "path_to_output_folder = \"/media/pathy_s/54fe7289-2a61-4f3a-ac84-eeea3c0d1d2f/temp/interactive_segmentation/test_data/nuc_gen_labels\"\n",
    "\n",
    "generate_annotation_labels_batch(path_to_input_folder,\n",
    "                                    path_to_output_folder,\n",
    "                                    large_image = False, anno_img_depth = \"8bit\")\n"
   ]
  },
  {
   "cell_type": "code",
   "execution_count": null,
   "metadata": {},
   "outputs": [],
   "source": [
    "from src.batch_processing import correct_annotation_labels_batch\n",
    "\n",
    "path_to_input_folder = \"/media/pathy_s/54fe7289-2a61-4f3a-ac84-eeea3c0d1d2f/temp/interactive_segmentation/test_data/nuc_imgs/\"\n",
    "path_to_anno_folder = \"/media/pathy_s/54fe7289-2a61-4f3a-ac84-eeea3c0d1d2f/temp/interactive_segmentation/test_data/nuc_uncor_labels/\"\n",
    "path_to_output_folder = \"/media/pathy_s/54fe7289-2a61-4f3a-ac84-eeea3c0d1d2f/temp/interactive_segmentation/test_data/nuc_cor_labels\"\n",
    "\n",
    "correct_annotation_labels_batch(path_to_input_folder,path_to_anno_folder,\n",
    "                                    path_to_output_folder,\n",
    "                                    large_image = False, anno_img_depth = \"8bit\")\n"
   ]
  },
  {
   "cell_type": "code",
   "execution_count": 1,
   "metadata": {},
   "outputs": [],
   "source": [
    "from skimage import data\n",
    "import skimage.filters as skfil\n",
    "from skimage.measure import label\n",
    "from tifffile import imread, imsave\n",
    "from skimage.transform import resize\n",
    "import numpy as np\n",
    "from skimage.morphology import remove_small_objects\n",
    "from skimage.util import img_as_ubyte\n",
    "import cv2"
   ]
  },
  {
   "cell_type": "code",
   "execution_count": 2,
   "metadata": {},
   "outputs": [],
   "source": [
    "from src.interactive_segmentation import generate_labels_large_image\n",
    "from src.basic_image_processing_tasks import simple_intensity_based_segmentation\n"
   ]
  },
  {
   "cell_type": "code",
   "execution_count": 3,
   "metadata": {},
   "outputs": [],
   "source": [
    "raw_image_path = '/media/pathy_s/54fe7289-2a61-4f3a-ac84-eeea3c0d1d2f/DCIS_project/High_resolution_widefiled_whole_cores/BR301_4_Hoechst_Cytokeratin_555_aSMA_647/zproject/CYTOKERATIN/A5.tif'\n",
    "smallest_area_of_object = 5000\n",
    "resize_factor = 10\n",
    "output_image_depth = '8bit'\n",
    "output_image_path = '/media/pathy_s/54fe7289-2a61-4f3a-ac84-eeea3c0d1d2f/DCIS_project'\n"
   ]
  },
  {
   "cell_type": "code",
   "execution_count": 4,
   "metadata": {},
   "outputs": [],
   "source": [
    "#Read image\n",
    "raw_img = imread(raw_image_path)\n",
    "\n",
    "labelled_image = simple_intensity_based_segmentation(raw_img, \n",
    "                                                     gaussian_sigma=5,\n",
    "                                                     thresh_method=\"Li\",\n",
    "                                                     smallest_area_of_object=10000)\n"
   ]
  },
  {
   "cell_type": "code",
   "execution_count": 5,
   "metadata": {},
   "outputs": [],
   "source": [
    "imsave(output_image_path+\"/\"+raw_image_path.rsplit('/', 1)[-1][:-4]+\"seg.tif\", labelled_image)"
   ]
  },
  {
   "cell_type": "code",
   "execution_count": 6,
   "metadata": {},
   "outputs": [
    {
     "name": "stderr",
     "output_type": "stream",
     "text": [
      "/home/pathy_s/anaconda3/lib/python3.8/site-packages/napari/_vispy/vispy_camera.py:109: RuntimeWarning: divide by zero encountered in true_divide\n",
      "  zoom = np.min(canvas_size / scale)\n"
     ]
    }
   ],
   "source": [
    "from src.interactive_segmentation import correcting_annotation_large_image\n",
    "correcting_annotation_large_image(raw_image_path,\n",
    "                                 output_image_path+\"/\"+raw_image_path.rsplit('/', 1)[-1][:-4]+\"seg.tif\",\n",
    "                                 output_image_path)"
   ]
  },
  {
   "cell_type": "code",
   "execution_count": 9,
   "metadata": {},
   "outputs": [
    {
     "data": {
      "text/plain": [
       "array([[0, 0, 0, ..., 0, 0, 0],\n",
       "       [0, 0, 0, ..., 0, 0, 0],\n",
       "       [0, 0, 0, ..., 0, 0, 0],\n",
       "       ...,\n",
       "       [0, 0, 0, ..., 0, 0, 0],\n",
       "       [0, 0, 0, ..., 0, 0, 0],\n",
       "       [0, 0, 0, ..., 0, 0, 0]], dtype=int32)"
      ]
     },
     "execution_count": 9,
     "metadata": {},
     "output_type": "execute_result"
    }
   ],
   "source": [
    "imread(output_image_path+\"/\"+raw_image_path.rsplit('/', 1)[-1][:-4]+\"seg.tif\")"
   ]
  },
  {
   "cell_type": "code",
   "execution_count": 4,
   "metadata": {},
   "outputs": [
    {
     "name": "stderr",
     "output_type": "stream",
     "text": [
      "/home/pathy_s/anaconda3/lib/python3.8/site-packages/napari/_vispy/vispy_camera.py:109: RuntimeWarning: divide by zero encountered in true_divide\n",
      "  zoom = np.min(canvas_size / scale)\n"
     ]
    }
   ],
   "source": [
    "generate_labels_large_image(raw_image_path, output_image_path)"
   ]
  },
  {
   "cell_type": "code",
   "execution_count": 7,
   "metadata": {},
   "outputs": [],
   "source": [
    "import napari\n",
    "from skimage import data\n",
    "from skimage.filters import gaussian, threshold_li\n",
    "from skimage.measure import label\n",
    "from tifffile import imread, imsave\n",
    "from skimage.transform import resize\n",
    "import numpy as np\n",
    "from skimage.morphology import remove_small_objects"
   ]
  },
  {
   "cell_type": "code",
   "execution_count": 8,
   "metadata": {},
   "outputs": [],
   "source": [
    "raw_image_path = '/media/pathy_s/54fe7289-2a61-4f3a-ac84-eeea3c0d1d2f/DCIS_project/High_resolution_widefiled_whole_cores/BR301_4_Hoechst_Cytokeratin_555_aSMA_647/zproject/CYTOKERATIN/A5.tif'\n",
    "pixel_to_micron = 0.18\n",
    "smallest_area_of_object_microns = 5000\n",
    "downsize_factor = 5\n",
    "output_image_depth = 'uint8'\n",
    "output_image_path = '/media/pathy_s/54fe7289-2a61-4f3a-ac84-eeea3c0d1d2f/DCIS_project'\n"
   ]
  },
  {
   "cell_type": "code",
   "execution_count": 9,
   "metadata": {},
   "outputs": [],
   "source": [
    "#Read image\n",
    "raw_img = imread(raw_image_path)\n",
    "\n",
    "#Resize image to make the segmentation easier\n",
    "image_resized = resize(raw_img, (raw_img.shape[0] // downsize_factor, raw_img.shape[1] // downsize_factor), anti_aliasing=True)\n",
    "\n",
    "# apply a gaussian filter\n",
    "image_resized_filtered = gaussian(image_resized, sigma=1, preserve_range = True)\n",
    "\n",
    "#reset image type\n",
    "image_resized_filtered = (image_resized_filtered * 255 / np.max(image_resized_filtered)).astype('uint8')\n",
    "# apply threshold\n",
    "thresh = threshold_li(image_resized_filtered)\n",
    "bw = (image_resized_filtered > thresh)\n"
   ]
  },
  {
   "cell_type": "code",
   "execution_count": 8,
   "metadata": {},
   "outputs": [
    {
     "data": {
      "text/plain": [
       "3364"
      ]
     },
     "execution_count": 8,
     "metadata": {},
     "output_type": "execute_result"
    }
   ],
   "source": [
    "import numpy as np\n",
    "int(3364.6000000000004)"
   ]
  },
  {
   "cell_type": "code",
   "execution_count": 10,
   "metadata": {},
   "outputs": [],
   "source": [
    "#remove small objects\n",
    "smallest_area_of_objects_pixels = int(smallest_area_of_object_microns/((pixel_to_micron*downsize_factor)**2))\n",
    "bw_size_filtered = remove_small_objects(bw,smallest_area_of_objects_pixels )\n",
    "\n",
    "#Label connected components\n",
    "label_image = label(bw_size_filtered)"
   ]
  },
  {
   "cell_type": "code",
   "execution_count": 16,
   "metadata": {},
   "outputs": [
    {
     "name": "stderr",
     "output_type": "stream",
     "text": [
      "/home/pathy_s/anaconda3/lib/python3.8/site-packages/napari/_vispy/vispy_camera.py:109: RuntimeWarning: divide by zero encountered in true_divide\n",
      "  zoom = np.min(canvas_size / scale)\n"
     ]
    }
   ],
   "source": [
    "# create the viewer and add the coins image\n",
    "viewer = napari.Viewer()\n",
    "image_layer = viewer.add_image(image_resized_filtered, name='ducts', multiscale=False)\n",
    "labels_layer = viewer.add_labels(np.zeros((image_resized_filtered.shape[0],image_resized_filtered.shape[1]), dtype=np.uint8))\n",
    "#napari automatically updates the label image, but I am being unnecessarily careful here :/\n",
    "updated_labels = labels_layer.data\n",
    "\n"
   ]
  },
  {
   "cell_type": "code",
   "execution_count": 18,
   "metadata": {},
   "outputs": [],
   "source": []
  },
  {
   "cell_type": "code",
   "execution_count": null,
   "metadata": {},
   "outputs": [],
   "source": [
    "\n",
    "# add the labels\n",
    "labels_layer = viewer.add_labels(label_image, name='segmentation', multiscale=False)\n",
    "# This should then open napari allowing the user to see and edit the segmentation"
   ]
  },
  {
   "cell_type": "code",
   "execution_count": 6,
   "metadata": {},
   "outputs": [],
   "source": [
    "#napari automatically updates the label image, but I am being unnecessarily careful here :/\n",
    "updated_labels = labels_layer.data\n",
    "\n",
    "#upsizing the image back to original dimensions\n",
    "labelled_image_upsized = resize(updated_labels, (updated_labels.shape[0]*5, updated_labels.shape[1]*5), anti_aliasing=True)\n",
    "labelled_image_upsized = (labelled_image_upsized * 255 / np.max(labelled_image_upsized)).astype(output_image_depth)\n",
    "\n"
   ]
  },
  {
   "cell_type": "code",
   "execution_count": null,
   "metadata": {},
   "outputs": [],
   "source": [
    "imsave(output_image_path+\"/\"+raw_image_path.rsplit('/', 1)[-1][:-4]+\".tif\", labelled_image_upsized)"
   ]
  },
  {
   "cell_type": "code",
   "execution_count": 18,
   "metadata": {},
   "outputs": [
    {
     "data": {
      "text/plain": [
       "(16820, 16820)"
      ]
     },
     "execution_count": 18,
     "metadata": {},
     "output_type": "execute_result"
    }
   ],
   "source": [
    "updated_labels.shape"
   ]
  },
  {
   "cell_type": "code",
   "execution_count": 17,
   "metadata": {},
   "outputs": [],
   "source": [
    "import cv2\n",
    " \n",
    "res = cv2.resize(updated_labels, dsize=((updated_labels.shape[0] // 5), \n",
    "                                        (updated_labels.shape[1] // 5)))"
   ]
  },
  {
   "cell_type": "code",
   "execution_count": 21,
   "metadata": {},
   "outputs": [
    {
     "data": {
      "text/plain": [
       "dtype('float64')"
      ]
     },
     "execution_count": 21,
     "metadata": {},
     "output_type": "execute_result"
    }
   ],
   "source": [
    "res.dtype"
   ]
  },
  {
   "cell_type": "code",
   "execution_count": 22,
   "metadata": {},
   "outputs": [],
   "source": [
    "I = cv2.normalize(res, None, 0, 255, cv2.NORM_MINMAX, cv2.CV_8U)"
   ]
  },
  {
   "cell_type": "code",
   "execution_count": 23,
   "metadata": {},
   "outputs": [
    {
     "data": {
      "text/plain": [
       "array([[0, 0, 0, ..., 0, 0, 0],\n",
       "       [0, 0, 0, ..., 0, 0, 0],\n",
       "       [0, 0, 0, ..., 0, 0, 0],\n",
       "       ...,\n",
       "       [0, 0, 0, ..., 0, 0, 0],\n",
       "       [0, 0, 0, ..., 0, 0, 0],\n",
       "       [0, 0, 0, ..., 0, 0, 0]], dtype=uint8)"
      ]
     },
     "execution_count": 23,
     "metadata": {},
     "output_type": "execute_result"
    }
   ],
   "source": [
    "I"
   ]
  },
  {
   "cell_type": "code",
   "execution_count": null,
   "metadata": {},
   "outputs": [],
   "source": []
  }
 ],
 "metadata": {
  "kernelspec": {
   "display_name": "Python 3",
   "language": "python",
   "name": "python3"
  },
  "language_info": {
   "codemirror_mode": {
    "name": "ipython",
    "version": 3
   },
   "file_extension": ".py",
   "mimetype": "text/x-python",
   "name": "python",
   "nbconvert_exporter": "python",
   "pygments_lexer": "ipython3",
   "version": "3.8.3"
  }
 },
 "nbformat": 4,
 "nbformat_minor": 4
}
